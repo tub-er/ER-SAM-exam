{
 "cells": [
  {
   "cell_type": "markdown",
   "id": "534d85bb-06da-413e-8cd4-555c1b47fb1c",
   "metadata": {},
   "source": [
    "# ER-SAM Test vom 15.12.2023"
   ]
  },
  {
   "cell_type": "markdown",
   "id": "1d973bc8-d3d9-43f7-9ff5-61d732490d62",
   "metadata": {},
   "source": [
    "#### Bitte schreiben Sie Ihren Namen und Ihre Matrikelnummer in die folgende Zelle:"
   ]
  },
  {
   "cell_type": "code",
   "execution_count": 1,
   "id": "e70a1169-7be7-409f-83ca-f99a042220bd",
   "metadata": {},
   "outputs": [],
   "source": [
    "# Name:\n",
    "# Matriculation number: "
   ]
  },
  {
   "cell_type": "markdown",
   "id": "50c3ebe3-8c08-4059-9249-f8de4b7c3819",
   "metadata": {},
   "source": [
    "#### Durchführung\n",
    "Der Python-Teil des Tests beinhaltet 20 Punkte. Dafür sind 20 Minuten Bearbeitungszeit vorgesehen. Sie dürfen sich die Zeit frei einteilen. \n",
    "\n",
    "Sie erhalten zusätzlich 30 Minuten, um die Excel und Python Aufgaben herunterzuladen, zu öffnen und schließlich wieder bei ISIS hochzuladen. \n",
    "\n",
    "Bitte bearbeiten Sie alle Aufgaben in den dafür vorgesehenen Zellen bzw. fügen Sie wenn nötig zusätzliche Zellen an den entsprechenden Stellen ein. Lassen Sie die Aufgabenstellungen bitte so stehen wie sie sind. \n",
    "\n",
    "In Python und Pandas gibt es häufig unterschiedliche Wege eine Aufgabe zu lösen. Sie sind daher in der Wahl des Lösungswegs frei. \n",
    "\n",
    "Nachdem Sie alle Fragen beantwortet haben, vergewissern Sie sich bitte, dass alle Outputs sichtbar sind bzw. alle Zellen ausgeführt wurden. Dann nutzen Sie bitte den Download Button oben um das Notebook herunterzuladen und laden Sie die .ipynb Datei so wie sie ist auf ISIS hoch. Danach würden wir Sie bitten die Datei von Ihren privaten PCs zu löschen. \n",
    "\n",
    "Viel Erfolg!"
   ]
  },
  {
   "cell_type": "code",
   "execution_count": 2,
   "id": "2ed64f0b-e8bf-476c-af6a-d2730c6c5b80",
   "metadata": {
    "scrolled": true
   },
   "outputs": [],
   "source": [
    "# Gegebenenfalls müssen Sie noch pandas etc. installieren... \n",
    "# !pip install pandas\n",
    "# !pip install geopandas\n",
    "# !pip install matplotlib\n",
    "# !pip install openpyxl\n",
    "# Importieren Sie pandas und matplotlib\n",
    "import pandas as pd\n",
    "import geopandas as gpd\n",
    "import matplotlib.pyplot as plt"
   ]
  },
  {
   "cell_type": "markdown",
   "id": "5de44db6-dbe3-4f7f-b663-f7b198aae78a",
   "metadata": {},
   "source": [
    "#### Aufgabe 1: Relevante Daten aus einem Datensatz auslesen und darstellen. [12P]\n",
    "- Laden Sie das \"Anlagenregister\" (\"2018_09_Veroeff_RegDaten.csv\" im \"input\" Ordner) in einen Pandas Dataframe\n",
    "\n",
    "- a) [3P] Ermitteln Sie die Summe, den Mittelwert und das Maximum der installierten Leistung für jeden Energieträger.\n",
    "\n",
    "- b) [3P] Ermitteln Sie die Summe, den Mittelwert und das Maximum der installierten Leistung für jedes Bundesland.\n",
    "\n",
    "- c) [6P] In manchen Fällen wird Ackerfläche zur Installation von Solaranlagen verwendet. Ermitteln Sie den prozentualen Anteil der gesamten Fläche für PV-Anlagen, die gleichzeitig als Farmland verwendet werden kann. Unterscheiden Sie hierbei nach Bundesländern. Stellen Sie Ihre Ergebnisse (Anteil Ackerfläche PV pro Bundesland) in einem Balkendiagramm dar (plot.bar()). Die folgenden Spalten sind für die Aufgabe relevant:\n",
    "    - '9.2 Wie viel Fläche wird durch die PV-Freiflächenanlage in Anspruch genommen? [ha] '\n",
    "    - '9.3 Wie viel der PV-Freifläche ist davon Ackerland? [ha] '\n",
    "    - '4.11 Bundesland'"
   ]
  },
  {
   "cell_type": "code",
   "execution_count": 6,
   "id": "234091b6-6ded-4737-9e25-300b7c6c4e52",
   "metadata": {},
   "outputs": [],
   "source": [
    "# Datenimport - nicht abwandeln\n",
    "df = pd.read_excel('input/2018_11_Veroeff_RegDaten.xlsx')"
   ]
  },
  {
   "cell_type": "code",
   "execution_count": 4,
   "id": "4c04294c-7a1f-4e11-8935-1ae067f770aa",
   "metadata": {},
   "outputs": [],
   "source": [
    "# a) [3P] Ermitteln Sie Summe, Mittelwert und Maximum der installierten Leistung für jeden Energieträger.\n",
    "# Spalten: '4.1 Energieträger', '4.2 Installierte Leistung [kW]'"
   ]
  },
  {
   "cell_type": "code",
   "execution_count": null,
   "id": "eeb5beb3-308f-4e54-9ca6-0a3cb5010d42",
   "metadata": {},
   "outputs": [],
   "source": [
    "# a) Summe\n"
   ]
  },
  {
   "cell_type": "code",
   "execution_count": null,
   "id": "98d66c10-da44-4167-952b-d89e8b81132b",
   "metadata": {},
   "outputs": [],
   "source": [
    "# a) Mittelwert\n"
   ]
  },
  {
   "cell_type": "code",
   "execution_count": null,
   "id": "5c289723-7117-45a0-841e-786747cbda67",
   "metadata": {},
   "outputs": [],
   "source": [
    "# a) Maximum\n"
   ]
  },
  {
   "cell_type": "code",
   "execution_count": null,
   "id": "18019f8c-62f2-4068-9d6d-525f87d3e527",
   "metadata": {},
   "outputs": [],
   "source": [
    "# b) [3P] Ermitteln Sie Summe, Mittelwert und Maximum der installierten Leistung für jedes Bundesland.\n",
    "# Spalten: '4.11 Bundesland', '4.2 Installierte Leistung [kW]'"
   ]
  },
  {
   "cell_type": "code",
   "execution_count": null,
   "id": "da60f9c7-7700-4e9c-b7ab-6815b2a55b4f",
   "metadata": {},
   "outputs": [],
   "source": [
    "# b) Summe\n"
   ]
  },
  {
   "cell_type": "code",
   "execution_count": null,
   "id": "f0a45d2d-021d-4874-9582-6b36b68b12b8",
   "metadata": {},
   "outputs": [],
   "source": [
    "# b) Mittelwert\n"
   ]
  },
  {
   "cell_type": "code",
   "execution_count": null,
   "id": "7a469425-e8b7-443f-ba7b-9bb8bd6f024f",
   "metadata": {},
   "outputs": [],
   "source": [
    "# b) Maximum\n"
   ]
  },
  {
   "cell_type": "code",
   "execution_count": null,
   "id": "08d6794b-b11c-4d2e-949b-52837697d83b",
   "metadata": {},
   "outputs": [],
   "source": [
    "# c) [6P] Ermitteln Sie den prozentualen Anteil der Fläche für PV-Anlagen, die gleichzeitig als Ackerland verwendet werden kann. Unterscheiden Sie hierbei nach Bundesländern. \n",
    "#    Stellen Sie Ihre Ergebnisse (Anteil Ackerfläche PV pro Bundesland) in einem Balkendiagramm dar (plot.bar()). Die folgenden Spalten sind für die Aufgabe relevant:\n",
    "# '9.2 Wie viel Fläche wird durch die PV-Freiflächenanlage in Anspruch genommen? [ha] '\n",
    "# '9.3 Wie viel der PV-Freifläche ist davon Ackerland? [ha] '\n",
    "# '4.11 Bundesland'"
   ]
  },
  {
   "cell_type": "code",
   "execution_count": null,
   "id": "fedac823-ac69-4a34-8443-86bdedda3368",
   "metadata": {},
   "outputs": [],
   "source": [
    "# c) PV-Fläche pro Bundesland \n"
   ]
  },
  {
   "cell_type": "code",
   "execution_count": null,
   "id": "2cbee9c7-1250-4dda-a33b-7de195cbf917",
   "metadata": {},
   "outputs": [],
   "source": [
    "# c) PV-Ackerland pro Bundesland \n"
   ]
  },
  {
   "cell_type": "code",
   "execution_count": null,
   "id": "9747f6e8-7b29-452c-8c3f-bde388d6b69e",
   "metadata": {},
   "outputs": [],
   "source": [
    "# c) prozentualer Anteil\n"
   ]
  },
  {
   "cell_type": "code",
   "execution_count": null,
   "id": "47431bfa-e6ee-4a72-a054-5448132a6509",
   "metadata": {},
   "outputs": [],
   "source": [
    "# c) Balkendiagramm\n"
   ]
  },
  {
   "cell_type": "markdown",
   "id": "3a7abf67-e1e8-47e2-8147-d62fe7f75c25",
   "metadata": {},
   "source": [
    "#### Aufgabe 2: Zeitreihendaten umwandeln und darstellen. [4P]\n",
    "- Laden Sie das Lastprofil (\"Messwertexport_2015.csv\" im 'input' Ordner) in einen Pandas Dataframe. Nutzen Sie dafür den vorgegebenen Code.\n",
    "    \n",
    "- a) Die Daten liegen in viertelstündlichen Werten vor. Wandeln Sie sie in stündliche Werte mithilfe der resample Funktion um, wobei Sie die Werte aufsummieren. Speichern sie die neue Zeitreihe in einer Variable und stellen Sie die Ergebnisse in einem Diagramm dar. (x-Achse = DatetimeIndex, y-Achse = Messwert in kW)  [2P]\n",
    "- b) Wandeln Sie nun die stündlichen Werte in tägliche Werte um, wobei sie jeweils das Maximum verwenden. Stellen Sie die Ergebnisse ebenfalls in einem Diagramm dar. [2P]"
   ]
  },
  {
   "cell_type": "code",
   "execution_count": 9,
   "id": "5e10b4c9-2ccd-4357-bb53-25d6e1baa816",
   "metadata": {},
   "outputs": [],
   "source": [
    "# Datenimport - nicht abwandeln\n",
    "ts_df = pd.read_csv('input/Messwertexport_2015.csv', sep=';', \n",
    "                      decimal=',',parse_dates={'datetime':['[kW]','Attribut']})\n",
    "ts_df.set_index(pd.DatetimeIndex(ts_df.datetime), inplace=True)\n",
    "ts_df.drop(columns=['datetime'], inplace=True)"
   ]
  },
  {
   "cell_type": "code",
   "execution_count": null,
   "id": "24fcb00f-1e11-4c2e-bae4-2aa8c93d64ab",
   "metadata": {},
   "outputs": [],
   "source": [
    "# a) Wandeln Sie die Werte in Stundenwerte um. Summieren Sie und speichern Sie die Stundenwerte in einer neuen Variable ab.\n"
   ]
  },
  {
   "cell_type": "code",
   "execution_count": null,
   "id": "440ecc56-453f-4b3c-8c10-ae09960d354c",
   "metadata": {},
   "outputs": [],
   "source": [
    "# a) Stellen Sie die Stundenwerte in einem Diagramm dar.\n"
   ]
  },
  {
   "cell_type": "code",
   "execution_count": null,
   "id": "50a54cf0-2636-4827-b05a-6bb5d4bfa916",
   "metadata": {},
   "outputs": [],
   "source": [
    "# b) Wandeln Sie nun die vorher erzeugten Stundenwerte in Tageswerte um. Verwenden Sie dabei das Maximum.\n"
   ]
  },
  {
   "cell_type": "code",
   "execution_count": null,
   "id": "9658bcc6-2115-4a29-8abc-752366014774",
   "metadata": {},
   "outputs": [],
   "source": [
    "# b) Stellen Sie die maximalen Tageswerte in einem Diagramm dar.\n"
   ]
  },
  {
   "cell_type": "markdown",
   "id": "74119150-6ecf-4e09-b884-fd3d8cfae326",
   "metadata": {},
   "source": [
    "#### Aufgabe 3: Geodaten und Koordinatensysteme [4P]\n",
    "- Laden Sie nun den Geodatensatz mit den NUTS-Regionen Europas ('NUTS_RG_01M_2016_3035_LEVL_3.geojson' im 'input' Ordner)\n",
    "- a) In welchem Korrdinatensystem liegen die Daten vor? Wandeln Sie die Koordinaten in Längen- und Breitengrade um (EPSG:4326) und speichern Sie das Ergebnis in einer Variable. [2P]\n",
    "- b) Filtern Sie nun die Geodaten nach Italien und Österreich und zeigen Sie die Geodaten als Karte an. [2P]"
   ]
  },
  {
   "cell_type": "code",
   "execution_count": 11,
   "id": "4ae09e4f-7bc1-42e4-8233-694612ba837a",
   "metadata": {},
   "outputs": [],
   "source": [
    "# Datenimport - bitte nicht abwandeln\n",
    "gdf = gpd.read_file('input/NUTS_RG_01M_2016_3035_LEVL_3.geojson')"
   ]
  },
  {
   "cell_type": "code",
   "execution_count": null,
   "id": "30bebfb4-966b-4c70-a10e-91c3f5dd975b",
   "metadata": {},
   "outputs": [],
   "source": [
    "# a) Zeigen Sie das Koordinatensystem der Daten an\n"
   ]
  },
  {
   "cell_type": "code",
   "execution_count": null,
   "id": "61d3fc64-f85e-42bd-9e0d-4b0e02e34190",
   "metadata": {},
   "outputs": [],
   "source": [
    "# a) Wechseln Sie das Koordinatensystem zu EPSG:4326 und speichern sie das Ergebnis in einer Variable.\n"
   ]
  },
  {
   "cell_type": "code",
   "execution_count": null,
   "id": "3c9ed87e-63e5-4793-be71-8ab7a45b4b6e",
   "metadata": {},
   "outputs": [],
   "source": [
    "# b) Filtern Sie nach Italien und Österreich (IT, AT)\n"
   ]
  },
  {
   "cell_type": "code",
   "execution_count": null,
   "id": "54a72f2d-c8dd-4ff1-8e3e-002019192589",
   "metadata": {},
   "outputs": [],
   "source": [
    "# b) Zeigen Sie die Geodaten als Karte an. \n"
   ]
  },
  {
   "cell_type": "markdown",
   "id": "0ef61c52-38c9-4601-916e-e0c9f7fd4583",
   "metadata": {},
   "source": [
    "### Bitte nutzen Sie den Binder Download Button oben um das Jupyter Notebook (.ipynb Datei) zu speichern und laden Sie es anschließend bei ISIS hoch"
   ]
  },
  {
   "cell_type": "code",
   "execution_count": null,
   "id": "bbdde6c0-9ee3-487b-b788-24457a1bd516",
   "metadata": {},
   "outputs": [],
   "source": []
  }
 ],
 "metadata": {
  "kernelspec": {
   "display_name": "Python 3 (ipykernel)",
   "language": "python",
   "name": "python3"
  },
  "language_info": {
   "codemirror_mode": {
    "name": "ipython",
    "version": 3
   },
   "file_extension": ".py",
   "mimetype": "text/x-python",
   "name": "python",
   "nbconvert_exporter": "python",
   "pygments_lexer": "ipython3",
   "version": "3.12.0"
  }
 },
 "nbformat": 4,
 "nbformat_minor": 5
}
